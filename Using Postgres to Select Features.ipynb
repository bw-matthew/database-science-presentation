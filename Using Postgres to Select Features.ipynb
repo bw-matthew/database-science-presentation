{
 "cells": [
  {
   "cell_type": "markdown",
   "metadata": {},
   "source": [
    "# Using Postgres to Select Features"
   ]
  },
  {
   "cell_type": "code",
   "execution_count": null,
   "metadata": {
    "collapsed": true
   },
   "outputs": [],
   "source": [
    "PG_HOST = 'localhost'\n",
    "PG_PORT = 32780\n",
    "DATA_FILE = 'data/big_author_data.p'"
   ]
  },
  {
   "cell_type": "markdown",
   "metadata": {},
   "source": [
    "The objective is to predict those that tweet again. To achieve this:\n",
    "\n",
    " * Take the first tweet of every unique author\n",
    " * Split them into those that tweet again and those that don't\n",
    " * Split them again into 3 groups"
   ]
  },
  {
   "cell_type": "code",
   "execution_count": null,
   "metadata": {
    "collapsed": true
   },
   "outputs": [],
   "source": [
    "import pickle\n",
    "\n",
    "with open(DATA_FILE, 'rb') as handle:\n",
    "    author_data = pickle.load(handle)"
   ]
  },
  {
   "cell_type": "code",
   "execution_count": null,
   "metadata": {},
   "outputs": [],
   "source": [
    "from collections import defaultdict\n",
    "\n",
    "docs_by_author = defaultdict(list)\n",
    "\n",
    "for doc in author_data:\n",
    "    docs_by_author[doc['author']].append(doc)\n",
    "\n",
    "for docs in docs_by_author.values():\n",
    "    docs.sort(key=lambda doc: doc['date'])"
   ]
  },
  {
   "cell_type": "code",
   "execution_count": null,
   "metadata": {},
   "outputs": [],
   "source": [
    "repeat_authors = {\n",
    "    author: docs\n",
    "    for author, docs in docs_by_author.items()\n",
    "    if len(docs) > 1\n",
    "}\n",
    "one_shot_authors = {\n",
    "    author: docs\n",
    "    for author, docs in docs_by_author.items()\n",
    "    if len(docs) == 1\n",
    "}"
   ]
  },
  {
   "cell_type": "code",
   "execution_count": null,
   "metadata": {},
   "outputs": [],
   "source": [
    "print(f'Repeat Authors: {len(repeat_authors)}')\n",
    "print(f'One Shot Authors: {len(one_shot_authors)}')\n",
    "print(f'{100 * len(retweeters) / len(author_data)}% Repeat Authors')"
   ]
  },
  {
   "cell_type": "code",
   "execution_count": null,
   "metadata": {
    "collapsed": true
   },
   "outputs": [],
   "source": [
    "def to_sets(repeaters, one_shotters):\n",
    "    return [\n",
    "        {\n",
    "            'repeat authors': r,\n",
    "            'one shot authors': o\n",
    "        }\n",
    "        for r, o in zip(to_threes(repeaters), to_threes(one_shotters))\n",
    "    ]\n",
    "\n",
    "def to_threes(data):\n",
    "    data_items = list(data.items())\n",
    "    step = len(data) // 3\n",
    "    return [\n",
    "        to_dict(collection)\n",
    "        for collection in [\n",
    "            data_items[:step], data_items[step:step * 2], data_items[step * 2:]\n",
    "        ]\n",
    "    ]\n",
    "\n",
    "def to_dict(items):\n",
    "    return {key: value for key, value in items}\n",
    "\n",
    "investigation, testing, validation = to_sets(repeat_authors, one_shot_authors)"
   ]
  },
  {
   "cell_type": "code",
   "execution_count": null,
   "metadata": {},
   "outputs": [],
   "source": [
    "len(investigation['repeat authors']) + len(testing['repeat authors']) + len(validation['repeat authors'])"
   ]
  },
  {
   "cell_type": "markdown",
   "metadata": {},
   "source": [
    "Now we need to insert this data into postgres. To do this we need to have a table!"
   ]
  },
  {
   "cell_type": "code",
   "execution_count": null,
   "metadata": {},
   "outputs": [],
   "source": [
    "field_types = {}\n",
    "\n",
    "for doc_types in [\n",
    "    {\n",
    "        field: type(value)\n",
    "        for field, value in doc.items()\n",
    "        if value is not None\n",
    "    }\n",
    "    for doc in author_data\n",
    "]:\n",
    "    for field, field_type in doc_types.items():\n",
    "        if field not in field_types:\n",
    "            field_types[field] = field_type\n",
    "        elif field_types[field] is not field_type:\n",
    "            raise f'Incompatible field types detected for {field}: {field_types[field]} is not {field_type}'"
   ]
  },
  {
   "cell_type": "code",
   "execution_count": null,
   "metadata": {},
   "outputs": [],
   "source": [
    "field_mapping = {\n",
    "    str: 'TEXT',\n",
    "    int: 'BIGINT',\n",
    "    float: 'NUMERIC',\n",
    "    bool: 'BOOLEAN'\n",
    "}\n",
    "CREATE_TABLE_STATEMENT = f\"\"\"\n",
    "CREATE TABLE documents (\n",
    "    {\n",
    "        \", \".join(\n",
    "            f'\"{field}\" {field_mapping[field_type]}'\n",
    "            for field, field_type in field_types.items()\n",
    "            if field_type in field_mapping\n",
    "        )\n",
    "    }\n",
    ");\n",
    "\"\"\""
   ]
  },
  {
   "cell_type": "code",
   "execution_count": null,
   "metadata": {},
   "outputs": [],
   "source": [
    "from psycopg2 import connect\n",
    "\n",
    "with connect(host=PG_HOST, port=PG_PORT, database='postgres', user='postgres') as connection:\n",
    "    with connection.cursor() as cursor:\n",
    "        cursor.execute(CREATE_TABLE_STATEMENT)"
   ]
  },
  {
   "cell_type": "markdown",
   "metadata": {},
   "source": [
    "That is a terrible way to make a table. It did drop every column which never has a value though.\n",
    "\n",
    "Next to insert the investigation data. This will take a little while to complete."
   ]
  },
  {
   "cell_type": "code",
   "execution_count": null,
   "metadata": {
    "collapsed": true
   },
   "outputs": [],
   "source": [
    "keys = [\n",
    "    field for field, field_type in field_types.items()\n",
    "    if field_type in field_mapping\n",
    "]\n",
    "\n",
    "INSERT_STATEMENT = f\"\"\"INSERT INTO documents ({\", \".join(f'\"{key}\"' for key in keys)}) VALUES %s\"\"\""
   ]
  },
  {
   "cell_type": "code",
   "execution_count": null,
   "metadata": {},
   "outputs": [],
   "source": [
    "from psycopg2.extras import execute_values\n",
    "\n",
    "def to_ordered_values(docs_list):\n",
    "    return [\n",
    "        [\n",
    "            doc[key] if key in doc else None\n",
    "            for key in keys\n",
    "        ]\n",
    "        for docs in docs_list\n",
    "        for doc in docs\n",
    "    ]\n",
    "\n",
    "with connect(host=PG_HOST, port=PG_PORT, database='postgres', user='postgres') as connection:\n",
    "    with connection.cursor() as cursor:\n",
    "        execute_values(cursor, INSERT_STATEMENT, to_ordered_values(investigation['repeat authors'].values()))\n",
    "        execute_values(cursor, INSERT_STATEMENT, to_ordered_values(investigation['one shot authors'].values()))"
   ]
  },
  {
   "cell_type": "code",
   "execution_count": null,
   "metadata": {
    "collapsed": true
   },
   "outputs": [],
   "source": [
    "with connect(host=PG_HOST, port=PG_PORT, database='postgres', user='postgres') as connection:\n",
    "    with connection.cursor() as cursor:\n",
    "        cursor.execute('ANALYZE documents;')"
   ]
  },
  {
   "cell_type": "markdown",
   "metadata": {},
   "source": [
    "Now we can extract the statistics from the table!"
   ]
  },
  {
   "cell_type": "code",
   "execution_count": null,
   "metadata": {
    "collapsed": true
   },
   "outputs": [],
   "source": [
    "STATISTICS_STATEMENT = \"\"\"\n",
    "SELECT\n",
    "    attname AS column,\n",
    "    n_distinct,\n",
    "    most_common_vals,\n",
    "    most_common_freqs,\n",
    "    histogram_bounds,\n",
    "    correlation\n",
    "FROM pg_stats\n",
    "WHERE tablename = 'documents';\n",
    "\"\"\"\n",
    "\n",
    "with connect(host=PG_HOST, port=PG_PORT, database='postgres', user='postgres') as connection:\n",
    "    with connection.cursor() as cursor:\n",
    "        cursor.execute(STATISTICS_STATEMENT)\n",
    "        statistics = cursor.fetchall()"
   ]
  },
  {
   "cell_type": "code",
   "execution_count": null,
   "metadata": {},
   "outputs": [],
   "source": [
    "interesting_columns = [\n",
    "    column\n",
    "    for column, distinct, *_\n",
    "    in statistics\n",
    "    if distinct > 1 and distinct < 100\n",
    "]"
   ]
  },
  {
   "cell_type": "code",
   "execution_count": null,
   "metadata": {},
   "outputs": [],
   "source": [
    "interesting_columns"
   ]
  },
  {
   "cell_type": "markdown",
   "metadata": {},
   "source": [
    "Now we need to determine the degree to which the specific values of the columns identify repeat tweeters or not."
   ]
  },
  {
   "cell_type": "code",
   "execution_count": null,
   "metadata": {
    "collapsed": true
   },
   "outputs": [],
   "source": []
  }
 ],
 "metadata": {
  "kernelspec": {
   "display_name": "Python 3",
   "language": "python",
   "name": "python3"
  },
  "language_info": {
   "codemirror_mode": {
    "name": "ipython",
    "version": 3
   },
   "file_extension": ".py",
   "mimetype": "text/x-python",
   "name": "python",
   "nbconvert_exporter": "python",
   "pygments_lexer": "ipython3",
   "version": "3.6.2"
  }
 },
 "nbformat": 4,
 "nbformat_minor": 2
}
